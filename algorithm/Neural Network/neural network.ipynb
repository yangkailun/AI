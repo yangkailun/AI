{
 "cells": [
  {
   "cell_type": "code",
   "execution_count": 159,
   "metadata": {},
   "outputs": [],
   "source": [
    "import numpy as np\n",
    "from sklearn import datasets\n",
    "from sklearn.model_selection import train_test_split"
   ]
  },
  {
   "cell_type": "code",
   "execution_count": 160,
   "metadata": {},
   "outputs": [],
   "source": [
    "iris = datasets.load_iris()\n",
    "X = iris.data\n",
    "y = iris.target"
   ]
  },
  {
   "cell_type": "code",
   "execution_count": 161,
   "metadata": {},
   "outputs": [
    {
     "data": {
      "text/plain": [
       "(150, 4)"
      ]
     },
     "execution_count": 161,
     "metadata": {},
     "output_type": "execute_result"
    }
   ],
   "source": [
    "X.shape"
   ]
  },
  {
   "cell_type": "code",
   "execution_count": 162,
   "metadata": {},
   "outputs": [
    {
     "data": {
      "text/plain": [
       "array([[5.1, 3.5, 1.4, 0.2],\n",
       "       [4.9, 3. , 1.4, 0.2],\n",
       "       [4.7, 3.2, 1.3, 0.2],\n",
       "       [4.6, 3.1, 1.5, 0.2],\n",
       "       [5. , 3.6, 1.4, 0.2],\n",
       "       [5.4, 3.9, 1.7, 0.4],\n",
       "       [4.6, 3.4, 1.4, 0.3],\n",
       "       [5. , 3.4, 1.5, 0.2],\n",
       "       [4.4, 2.9, 1.4, 0.2],\n",
       "       [4.9, 3.1, 1.5, 0.1]])"
      ]
     },
     "execution_count": 162,
     "metadata": {},
     "output_type": "execute_result"
    }
   ],
   "source": [
    "X[:10]"
   ]
  },
  {
   "cell_type": "code",
   "execution_count": 163,
   "metadata": {},
   "outputs": [
    {
     "data": {
      "text/plain": [
       "array([0, 0, 0, 0, 0, 0, 0, 0, 0, 0, 0, 0, 0, 0, 0, 0, 0, 0, 0, 0, 0, 0,\n",
       "       0, 0, 0, 0, 0, 0, 0, 0, 0, 0, 0, 0, 0, 0, 0, 0, 0, 0, 0, 0, 0, 0,\n",
       "       0, 0, 0, 0, 0, 0, 1, 1, 1, 1, 1, 1, 1, 1, 1, 1, 1, 1, 1, 1, 1, 1,\n",
       "       1, 1, 1, 1, 1, 1, 1, 1, 1, 1, 1, 1, 1, 1, 1, 1, 1, 1, 1, 1, 1, 1,\n",
       "       1, 1, 1, 1, 1, 1, 1, 1, 1, 1, 1, 1, 2, 2, 2, 2, 2, 2, 2, 2, 2, 2,\n",
       "       2, 2, 2, 2, 2, 2, 2, 2, 2, 2, 2, 2, 2, 2, 2, 2, 2, 2, 2, 2, 2, 2,\n",
       "       2, 2, 2, 2, 2, 2, 2, 2, 2, 2, 2, 2, 2, 2, 2, 2, 2, 2])"
      ]
     },
     "execution_count": 163,
     "metadata": {},
     "output_type": "execute_result"
    }
   ],
   "source": [
    "y"
   ]
  },
  {
   "cell_type": "markdown",
   "metadata": {},
   "source": [
    "## 归一化输入数据到0到1之间，防止梯度爆炸"
   ]
  },
  {
   "cell_type": "code",
   "execution_count": 164,
   "metadata": {},
   "outputs": [],
   "source": [
    "X = X / 8 * 0.99 + 0.01"
   ]
  },
  {
   "cell_type": "code",
   "execution_count": 165,
   "metadata": {},
   "outputs": [],
   "source": [
    "X_train, X_test, y_train, y_test = train_test_split(X,y)"
   ]
  },
  {
   "cell_type": "code",
   "execution_count": 166,
   "metadata": {},
   "outputs": [
    {
     "data": {
      "text/plain": [
       "(112, 4)"
      ]
     },
     "execution_count": 166,
     "metadata": {},
     "output_type": "execute_result"
    }
   ],
   "source": [
    "X_train.shape"
   ]
  },
  {
   "cell_type": "code",
   "execution_count": 167,
   "metadata": {},
   "outputs": [
    {
     "data": {
      "text/plain": [
       "(38, 4)"
      ]
     },
     "execution_count": 167,
     "metadata": {},
     "output_type": "execute_result"
    }
   ],
   "source": [
    "X_test.shape"
   ]
  },
  {
   "cell_type": "code",
   "execution_count": 168,
   "metadata": {},
   "outputs": [
    {
     "data": {
      "text/plain": [
       "(112,)"
      ]
     },
     "execution_count": 168,
     "metadata": {},
     "output_type": "execute_result"
    }
   ],
   "source": [
    "y_train.shape"
   ]
  },
  {
   "cell_type": "markdown",
   "metadata": {},
   "source": [
    "## 暂不使用偏置"
   ]
  },
  {
   "cell_type": "code",
   "execution_count": 169,
   "metadata": {},
   "outputs": [],
   "source": [
    "oneHot = np.identity(3)\n",
    "for i in range(oneHot.shape[0]):\n",
    "    for j in range(oneHot.shape[1]):\n",
    "        if (oneHot[i,j] == 1):\n",
    "            oneHot[i,j] = 0.99\n",
    "        else:\n",
    "            oneHot[i,j] = 0.01\n",
    "#数组嵌套操作，慢慢理解\n",
    "y_true = oneHot[y_train]"
   ]
  },
  {
   "cell_type": "code",
   "execution_count": 170,
   "metadata": {},
   "outputs": [
    {
     "data": {
      "text/plain": [
       "array([[0.01, 0.01, 0.99],\n",
       "       [0.01, 0.01, 0.99],\n",
       "       [0.01, 0.99, 0.01],\n",
       "       [0.01, 0.01, 0.99],\n",
       "       [0.99, 0.01, 0.01]])"
      ]
     },
     "execution_count": 170,
     "metadata": {},
     "output_type": "execute_result"
    }
   ],
   "source": [
    "oneHot\n",
    "y_true[:5]"
   ]
  },
  {
   "cell_type": "code",
   "execution_count": 171,
   "metadata": {},
   "outputs": [],
   "source": [
    "def sigmoid(x):\n",
    "    return 1/(1+np.exp(-x))\n",
    "\n",
    "#计算正确率\n",
    "def ac(y_true, y_predict):\n",
    "    return sum(y_true == y_predict) / len(y_true)"
   ]
  },
  {
   "cell_type": "code",
   "execution_count": 172,
   "metadata": {},
   "outputs": [
    {
     "data": {
      "text/plain": [
       "0.9473684210526315"
      ]
     },
     "execution_count": 172,
     "metadata": {},
     "output_type": "execute_result"
    }
   ],
   "source": [
    "W1 = np.random.normal(0.0,1,(4,8))\n",
    "W2 = np.random.normal(0.0,1,(8,3))\n",
    "\n",
    "eta = 0.01\n",
    "for i in range(600):\n",
    "    out1 = np.dot(X_train, W1)\n",
    "    act1 = sigmoid(out1)\n",
    "    out2 = np.dot(act1,W2)\n",
    "    act2 = sigmoid(out2)\n",
    "    \n",
    "    #反向传播比较难理解，多角度，简单化\n",
    "    error = y_true - act2\n",
    "    hErr = np.dot(error, W2.T)\n",
    "    \n",
    "    W2_ = np.dot(act1.T, -error * act2 * (1-act2))\n",
    "    W1_ = np.dot(X_train.T, -hErr * act1 * (1-act1))\n",
    "    \n",
    "    W2 -= W2_ * eta\n",
    "    W1 -= W1_ * eta\n",
    "    \n",
    "o1 = np.dot(X_test, W1)\n",
    "a1 = sigmoid(o1)\n",
    "o2 = np.dot(a1,W2)\n",
    "a2 = sigmoid(o2)\n",
    "\n",
    "rs = []\n",
    "for i in range(a2.shape[0]):\n",
    "    rs.append(np.argmax(a2[i]))\n",
    "rs = np.array(rs)\n",
    "\n",
    "ac(y_test, rs)"
   ]
  },
  {
   "cell_type": "code",
   "execution_count": 173,
   "metadata": {},
   "outputs": [
    {
     "data": {
      "text/plain": [
       "array([[3.62184387e-02, 4.42054421e-01, 5.35602845e-01],\n",
       "       [1.77836030e-02, 4.25585603e-01, 7.49283356e-01],\n",
       "       [2.42081358e-02, 4.40972352e-01, 6.77551179e-01],\n",
       "       [9.03290545e-01, 2.12635574e-01, 1.24080852e-03],\n",
       "       [9.27718874e-01, 1.97678606e-01, 1.10393514e-03],\n",
       "       [1.78930395e-01, 4.23797273e-01, 1.27370451e-01],\n",
       "       [9.38197597e-01, 1.88170399e-01, 7.36295299e-04],\n",
       "       [1.70988421e-01, 4.29394775e-01, 1.34779320e-01],\n",
       "       [9.18115554e-01, 2.22034170e-01, 1.29035056e-03],\n",
       "       [3.85844120e-02, 4.40210236e-01, 5.14614719e-01],\n",
       "       [1.27006086e-02, 4.38233725e-01, 8.34217522e-01],\n",
       "       [3.55275568e-02, 4.53975211e-01, 5.49225494e-01],\n",
       "       [9.42585353e-01, 1.85177490e-01, 6.74921618e-04],\n",
       "       [8.89381986e-01, 2.37075604e-01, 1.74949253e-03],\n",
       "       [9.46863453e-01, 1.68494873e-01, 5.69484518e-04],\n",
       "       [1.59112670e-02, 4.43269913e-01, 7.76793580e-01],\n",
       "       [4.27445498e-02, 4.37458403e-01, 4.75759680e-01],\n",
       "       [9.33682007e-01, 1.97194350e-01, 8.67833322e-04],\n",
       "       [9.12963440e-01, 2.20184644e-01, 1.12967421e-03],\n",
       "       [1.59025637e-02, 4.40011540e-01, 7.94506764e-01],\n",
       "       [2.70022252e-02, 4.42173409e-01, 6.28901515e-01],\n",
       "       [4.13062791e-02, 4.55587618e-01, 5.07878160e-01],\n",
       "       [9.51840309e-01, 1.69823438e-01, 5.37446652e-04],\n",
       "       [1.00336506e-01, 4.60398309e-01, 2.09745881e-01],\n",
       "       [9.31150991e-01, 1.98743478e-01, 8.86335477e-04],\n",
       "       [1.63199266e-02, 4.32201986e-01, 7.82491553e-01],\n",
       "       [6.33520383e-02, 4.63008676e-01, 3.52388338e-01],\n",
       "       [9.27006065e-01, 2.04395586e-01, 9.91257027e-04],\n",
       "       [9.02168906e-01, 2.31049122e-01, 1.61029765e-03],\n",
       "       [9.31674393e-01, 2.01307546e-01, 1.07110057e-03],\n",
       "       [1.07917436e-01, 4.42400900e-01, 2.45949925e-01],\n",
       "       [9.18495135e-01, 2.11885985e-01, 1.21598247e-03],\n",
       "       [2.12074380e-01, 4.43411005e-01, 8.47029568e-02],\n",
       "       [2.55082985e-02, 4.45664379e-01, 6.40125734e-01],\n",
       "       [1.07931091e-01, 4.65425176e-01, 1.88372460e-01],\n",
       "       [8.68383250e-01, 2.60316230e-01, 3.02517470e-03],\n",
       "       [6.28315602e-02, 4.50173609e-01, 3.49463652e-01],\n",
       "       [7.76296675e-02, 4.46844881e-01, 2.99585190e-01]])"
      ]
     },
     "execution_count": 173,
     "metadata": {},
     "output_type": "execute_result"
    }
   ],
   "source": [
    "a2"
   ]
  },
  {
   "cell_type": "markdown",
   "metadata": {},
   "source": [
    "### >参考视频https://www.bilibili.com/video/BV1qE411b7gU?from=search&seid=900318112246919302"
   ]
  }
 ],
 "metadata": {
  "kernelspec": {
   "display_name": "Python 3",
   "language": "python",
   "name": "python3"
  },
  "language_info": {
   "codemirror_mode": {
    "name": "ipython",
    "version": 3
   },
   "file_extension": ".py",
   "mimetype": "text/x-python",
   "name": "python",
   "nbconvert_exporter": "python",
   "pygments_lexer": "ipython3",
   "version": "3.7.0"
  }
 },
 "nbformat": 4,
 "nbformat_minor": 2
}
