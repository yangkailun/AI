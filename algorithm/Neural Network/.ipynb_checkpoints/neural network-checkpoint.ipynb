{
 "cells": [
  {
   "cell_type": "code",
   "execution_count": 2,
   "metadata": {},
   "outputs": [
    {
     "name": "stderr",
     "output_type": "stream",
     "text": [
      "D:\\Anaconda\\lib\\importlib\\_bootstrap.py:219: RuntimeWarning: numpy.ufunc size changed, may indicate binary incompatibility. Expected 216, got 192\n",
      "  return f(*args, **kwds)\n"
     ]
    }
   ],
   "source": [
    "import numpy as np\n",
    "from sklearn import datasets\n",
    "from sklearn.model_selection import train_test_split"
   ]
  },
  {
   "cell_type": "code",
   "execution_count": 16,
   "metadata": {},
   "outputs": [],
   "source": [
    "iris = datasets.load_iris()\n",
    "X = iris.data\n",
    "y = iris.target"
   ]
  },
  {
   "cell_type": "code",
   "execution_count": 4,
   "metadata": {},
   "outputs": [
    {
     "data": {
      "text/plain": [
       "(150, 4)"
      ]
     },
     "execution_count": 4,
     "metadata": {},
     "output_type": "execute_result"
    }
   ],
   "source": [
    "X.shape"
   ]
  },
  {
   "cell_type": "code",
   "execution_count": 5,
   "metadata": {},
   "outputs": [
    {
     "data": {
      "text/plain": [
       "array([[5.1, 3.5, 1.4, 0.2],\n",
       "       [4.9, 3. , 1.4, 0.2],\n",
       "       [4.7, 3.2, 1.3, 0.2],\n",
       "       [4.6, 3.1, 1.5, 0.2],\n",
       "       [5. , 3.6, 1.4, 0.2],\n",
       "       [5.4, 3.9, 1.7, 0.4],\n",
       "       [4.6, 3.4, 1.4, 0.3],\n",
       "       [5. , 3.4, 1.5, 0.2],\n",
       "       [4.4, 2.9, 1.4, 0.2],\n",
       "       [4.9, 3.1, 1.5, 0.1]])"
      ]
     },
     "execution_count": 5,
     "metadata": {},
     "output_type": "execute_result"
    }
   ],
   "source": [
    "X[:10]"
   ]
  },
  {
   "cell_type": "code",
   "execution_count": 6,
   "metadata": {},
   "outputs": [
    {
     "data": {
      "text/plain": [
       "array([0, 0, 0, 0, 0, 0, 0, 0, 0, 0, 0, 0, 0, 0, 0, 0, 0, 0, 0, 0, 0, 0,\n",
       "       0, 0, 0, 0, 0, 0, 0, 0, 0, 0, 0, 0, 0, 0, 0, 0, 0, 0, 0, 0, 0, 0,\n",
       "       0, 0, 0, 0, 0, 0, 1, 1, 1, 1, 1, 1, 1, 1, 1, 1, 1, 1, 1, 1, 1, 1,\n",
       "       1, 1, 1, 1, 1, 1, 1, 1, 1, 1, 1, 1, 1, 1, 1, 1, 1, 1, 1, 1, 1, 1,\n",
       "       1, 1, 1, 1, 1, 1, 1, 1, 1, 1, 1, 1, 2, 2, 2, 2, 2, 2, 2, 2, 2, 2,\n",
       "       2, 2, 2, 2, 2, 2, 2, 2, 2, 2, 2, 2, 2, 2, 2, 2, 2, 2, 2, 2, 2, 2,\n",
       "       2, 2, 2, 2, 2, 2, 2, 2, 2, 2, 2, 2, 2, 2, 2, 2, 2, 2])"
      ]
     },
     "execution_count": 6,
     "metadata": {},
     "output_type": "execute_result"
    }
   ],
   "source": [
    "y"
   ]
  },
  {
   "cell_type": "markdown",
   "metadata": {},
   "source": [
    "## 归一化输入数据到0到1之间，防止梯度爆炸"
   ]
  },
  {
   "cell_type": "code",
   "execution_count": 17,
   "metadata": {},
   "outputs": [],
   "source": [
    "X = X / 8 * 0.99 + 0.01"
   ]
  },
  {
   "cell_type": "code",
   "execution_count": 20,
   "metadata": {},
   "outputs": [],
   "source": [
    "X_train, X_test, y_train, y_test = train_test_split(X,y)"
   ]
  },
  {
   "cell_type": "code",
   "execution_count": 21,
   "metadata": {},
   "outputs": [
    {
     "data": {
      "text/plain": [
       "(112, 4)"
      ]
     },
     "execution_count": 21,
     "metadata": {},
     "output_type": "execute_result"
    }
   ],
   "source": [
    "X_train.shape"
   ]
  },
  {
   "cell_type": "code",
   "execution_count": 22,
   "metadata": {},
   "outputs": [
    {
     "data": {
      "text/plain": [
       "(38, 4)"
      ]
     },
     "execution_count": 22,
     "metadata": {},
     "output_type": "execute_result"
    }
   ],
   "source": [
    "X_test.shape"
   ]
  },
  {
   "cell_type": "code",
   "execution_count": 23,
   "metadata": {},
   "outputs": [
    {
     "data": {
      "text/plain": [
       "(112,)"
      ]
     },
     "execution_count": 23,
     "metadata": {},
     "output_type": "execute_result"
    }
   ],
   "source": [
    "y_train.shape"
   ]
  },
  {
   "cell_type": "markdown",
   "metadata": {},
   "source": [
    "## 暂不使用偏置"
   ]
  },
  {
   "cell_type": "code",
   "execution_count": 32,
   "metadata": {},
   "outputs": [],
   "source": [
    "oneHot = np.identity(3)\n",
    "for i in range(oneHot.shape[0]):\n",
    "    for j in range(oneHot.shape[1]):\n",
    "        if (oneHot[i,j] == 1):\n",
    "            oneHot[i,j] = 0.99\n",
    "        else:\n",
    "            oneHot[i,j] = 0.01\n",
    "#数组嵌套操作，慢慢理解\n",
    "y_true = oneHot[y_train]"
   ]
  },
  {
   "cell_type": "code",
   "execution_count": 34,
   "metadata": {},
   "outputs": [
    {
     "data": {
      "text/plain": [
       "array([[0.01, 0.01, 0.99],\n",
       "       [0.01, 0.01, 0.99],\n",
       "       [0.01, 0.99, 0.01],\n",
       "       [0.01, 0.01, 0.99],\n",
       "       [0.01, 0.99, 0.01]])"
      ]
     },
     "execution_count": 34,
     "metadata": {},
     "output_type": "execute_result"
    }
   ],
   "source": [
    "oneHot\n",
    "y_true[:5]"
   ]
  },
  {
   "cell_type": "code",
   "execution_count": 50,
   "metadata": {},
   "outputs": [],
   "source": [
    "def sigmoid(x):\n",
    "    return 1/(1+np.exp(-x))\n",
    "\n",
    "#计算正确率\n",
    "def ac(y_true, y_predict):\n",
    "    return sum(y_true == y_predict) / len(y_true)"
   ]
  },
  {
   "cell_type": "code",
   "execution_count": 48,
   "metadata": {},
   "outputs": [],
   "source": [
    "W1 = np.random.normal(0.0,1,(4,8))\n",
    "W2 = np.random.normal(0.0,1,(8,3))\n",
    "\n",
    "eta = 0.01\n",
    "for i in range(1):\n",
    "    out1 = np.dot(X_train, W1)\n",
    "    act1 = sigmoid(out1)\n",
    "    out2 = np.dot(act1,W2)\n",
    "    act2 = sigmoid(out2)\n",
    "    \n",
    "    #反向传播比较难理解，多角度，简单化\n",
    "    error = y_true - act2\n",
    "    hErr = np.dot(error, W2.T)\n",
    "    \n",
    "    W2_ = np.dot(act1.T, -error * act2 * (1-act2))\n",
    "    W1_ = np.dot(X_train.T, -hErr * act1 * (1-act1))\n",
    "    \n",
    "    W2 -= W2_ * eta\n",
    "    W1 -= W1_ * eta\n",
    "    \n",
    "o1 = np.dot(X_test, W1)\n",
    "a1 = sigmoid(o1)\n",
    "o2 = np.dot(a1,W2)\n",
    "a2 = sigmoid(o2)\n",
    "\n",
    "rs = []\n",
    "for i in range(a2.shape[0]):\n",
    "    rs.append(np.argmax(a2[i]))\n",
    "rs = np.array(rs)\n",
    "\n",
    "ac(y_test, rs)"
   ]
  },
  {
   "cell_type": "code",
   "execution_count": 49,
   "metadata": {},
   "outputs": [
    {
     "data": {
      "text/plain": [
       "array([[0.23826531, 0.20717157, 0.41421942],\n",
       "       [0.24078609, 0.20187119, 0.41698864],\n",
       "       [0.23847465, 0.22184846, 0.41843288],\n",
       "       [0.23970963, 0.21279155, 0.4056718 ],\n",
       "       [0.28811582, 0.22624436, 0.3873947 ],\n",
       "       [0.24124343, 0.20436921, 0.40453002],\n",
       "       [0.24384313, 0.20837602, 0.41443174],\n",
       "       [0.22814955, 0.19553613, 0.42083025],\n",
       "       [0.229904  , 0.20425962, 0.41706535],\n",
       "       [0.30043672, 0.22793528, 0.39295357],\n",
       "       [0.24180774, 0.21456342, 0.4154342 ],\n",
       "       [0.24446025, 0.2106832 , 0.40536464],\n",
       "       [0.24099035, 0.21460371, 0.40475904],\n",
       "       [0.23111026, 0.20981226, 0.40858239],\n",
       "       [0.23185895, 0.20171479, 0.40433135],\n",
       "       [0.23192584, 0.21878247, 0.40395493],\n",
       "       [0.23207236, 0.21947235, 0.41215819],\n",
       "       [0.29100122, 0.22096536, 0.39116416],\n",
       "       [0.30155108, 0.23165401, 0.3880266 ],\n",
       "       [0.29771428, 0.22323602, 0.38602805],\n",
       "       [0.22320392, 0.18939765, 0.42103823],\n",
       "       [0.24830554, 0.21566457, 0.40465524],\n",
       "       [0.29813266, 0.23376354, 0.38875384],\n",
       "       [0.29775481, 0.22706926, 0.38601584],\n",
       "       [0.29544308, 0.22463938, 0.38508553],\n",
       "       [0.27081765, 0.22679222, 0.40062581],\n",
       "       [0.25424537, 0.21958355, 0.39739153],\n",
       "       [0.30058854, 0.23229982, 0.38574511],\n",
       "       [0.24361488, 0.21172027, 0.39381768],\n",
       "       [0.28388455, 0.22339973, 0.38279152],\n",
       "       [0.24206593, 0.20579726, 0.4040861 ],\n",
       "       [0.25017011, 0.21204591, 0.40235619],\n",
       "       [0.29383449, 0.2359921 , 0.38792603],\n",
       "       [0.30233372, 0.23113632, 0.37825113],\n",
       "       [0.25805693, 0.21086916, 0.40346305],\n",
       "       [0.26044654, 0.21360224, 0.40569139],\n",
       "       [0.25670949, 0.21213782, 0.4038417 ],\n",
       "       [0.29331408, 0.2241965 , 0.3815255 ]])"
      ]
     },
     "execution_count": 49,
     "metadata": {},
     "output_type": "execute_result"
    }
   ],
   "source": [
    "a2"
   ]
  },
  {
   "cell_type": "code",
   "execution_count": null,
   "metadata": {},
   "outputs": [],
   "source": []
  }
 ],
 "metadata": {
  "kernelspec": {
   "display_name": "Python 3",
   "language": "python",
   "name": "python3"
  },
  "language_info": {
   "codemirror_mode": {
    "name": "ipython",
    "version": 3
   },
   "file_extension": ".py",
   "mimetype": "text/x-python",
   "name": "python",
   "nbconvert_exporter": "python",
   "pygments_lexer": "ipython3",
   "version": "3.7.0"
  }
 },
 "nbformat": 4,
 "nbformat_minor": 2
}
