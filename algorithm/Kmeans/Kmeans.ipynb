{
 "cells": [
  {
   "cell_type": "code",
   "execution_count": 5,
   "metadata": {},
   "outputs": [],
   "source": [
    "from Kmeans import Kmeans\n",
    "import pandas as pd"
   ]
  },
  {
   "cell_type": "code",
   "execution_count": 8,
   "metadata": {},
   "outputs": [
    {
     "name": "stdout",
     "output_type": "stream",
     "text": [
      "[{'data': array([5.7, 5.4, 5.1, 6.2, 5.1, 5.7, 6.5, 6.2, 5.9]), 'point': [5.2, 5.766666666666667, 6.3], 'result': {0: [1, 2, 4], 1: [0, 5, 8], 2: [3, 6, 7]}, 'result_label': [1, 0, 0, 2, 0, 1, 2, 2, 1]}, {'data': array([4.4, 3.9, 3.5, 2.9, 2.5, 2.8, 3. , 3.4, 3. ]), 'point': [2.733333333333333, 3.225, 4.15], 'result': {0: [3, 4, 5], 1: [2, 6, 7, 8], 2: [0, 1]}, 'result_label': [2, 2, 1, 0, 0, 0, 1, 1, 1]}, {'data': array([1.5, 1.3, 1.4, 4.3, 3. , 4.1, 5.2, 5.4, 5.1]), 'point': [1.3999999999999997, 3.7999999999999994, 5.233333333333333], 'result': {0: [0, 1, 2], 1: [3, 4, 5], 2: [6, 7, 8]}, 'result_label': [0, 0, 0, 1, 1, 1, 2, 2, 2]}, {'data': array([0.4, 0.4, 0.3, 1.3, 1.1, 1.3, 2. , 2.3, 1.8]), 'point': [0.3666666666666667, 1.2333333333333334, 2.033333333333333], 'result': {0: [0, 1, 2], 1: [3, 4, 5], 2: [6, 7, 8]}, 'result_label': [0, 0, 0, 1, 1, 1, 2, 2, 2]}]\n"
     ]
    }
   ],
   "source": [
    "# iris = pd.read_csv(r'I:\\实验室\\算法学习\\Kmeans聚类\\自己编写\\iris1.csv')\n",
    "iris = pd.read_csv('iris1.csv')\n",
    "\n",
    "sepal_length = iris.sepal_length.values\n",
    "sepal_width = iris.sepal_width.values\n",
    "petal_length = iris.petal_length.values\n",
    "petal_width = iris.petal_width.values\n",
    "species = iris.species.values\n",
    "\n",
    "alg = Kmeans()\n",
    "\n",
    "output = [alg.kmeans(sepal_length, 3), alg.kmeans(sepal_width, 3), alg.kmeans(petal_length, 3), alg.kmeans(petal_width, 3)]\n",
    "print(output)"
   ]
  }
 ],
 "metadata": {
  "kernelspec": {
   "display_name": "Python 3",
   "language": "python",
   "name": "python3"
  },
  "language_info": {
   "codemirror_mode": {
    "name": "ipython",
    "version": 3
   },
   "file_extension": ".py",
   "mimetype": "text/x-python",
   "name": "python",
   "nbconvert_exporter": "python",
   "pygments_lexer": "ipython3",
   "version": "3.7.0"
  }
 },
 "nbformat": 4,
 "nbformat_minor": 2
}
